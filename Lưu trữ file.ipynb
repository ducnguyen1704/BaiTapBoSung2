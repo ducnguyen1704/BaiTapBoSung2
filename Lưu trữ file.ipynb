{
 "cells": [
  {
   "cell_type": "markdown",
   "metadata": {},
   "source": [
    "# Bài tập lưu trữ file "
   ]
  },
  {
   "cell_type": "code",
   "execution_count": 9,
   "metadata": {},
   "outputs": [
    {
     "name": "stdout",
     "output_type": "stream",
     "text": [
      "Nhập vào một số nguyên dương: 4\n",
      "4 KB\n"
     ]
    }
   ],
   "source": [
    "n = int(input(\"Nhập vào một số nguyên dương: \"))\n",
    "NTFS = 4\n",
    "i = 1\n",
    "if n > 0 and n <= 4096:\n",
    "    print(\"{} KB\".format(NTFS))\n",
    "else:\n",
    "    NTFS = NTFS *(n/4096 + 1)\n",
    "    print(\"{} KB\".format(round(NTFS,0)))"
   ]
  },
  {
   "cell_type": "code",
   "execution_count": null,
   "metadata": {},
   "outputs": [],
   "source": []
  }
 ],
 "metadata": {
  "kernelspec": {
   "display_name": "Python 3",
   "language": "python",
   "name": "python3"
  },
  "language_info": {
   "codemirror_mode": {
    "name": "ipython",
    "version": 3
   },
   "file_extension": ".py",
   "mimetype": "text/x-python",
   "name": "python",
   "nbconvert_exporter": "python",
   "pygments_lexer": "ipython3",
   "version": "3.7.6"
  }
 },
 "nbformat": 4,
 "nbformat_minor": 4
}
