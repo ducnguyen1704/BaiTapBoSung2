{
 "cells": [
  {
   "cell_type": "markdown",
   "metadata": {},
   "source": [
    "# Xác định chuỗi đối xứng:\n"
   ]
  },
  {
   "cell_type": "code",
   "execution_count": 20,
   "metadata": {},
   "outputs": [
    {
     "name": "stdout",
     "output_type": "stream",
     "text": [
      "Nhập vào một chuỗi để kiểm tra: baab\n",
      "baab\n"
     ]
    }
   ],
   "source": [
    "chuoi = input(\"Nhập vào một chuỗi để kiểm tra: \")\n",
    "print(chuoi)\n",
    "a = len(chuoi)"
   ]
  },
  {
   "cell_type": "code",
   "execution_count": 21,
   "metadata": {},
   "outputs": [
    {
     "name": "stdout",
     "output_type": "stream",
     "text": [
      "Chuỗi vừa nhập:  baab\n",
      "* Chuỗi trên là chuỗi đối xứng\n"
     ]
    }
   ],
   "source": [
    "if chuoi == chuoi[::-1]:\n",
    "    print(\"Chuỗi vừa nhập: \",chuoi)\n",
    "    print(\"* Chuỗi trên là chuỗi đối xứng\")\n",
    "else: \n",
    "    print(\"* Chuỗi trên Không đối xứng\")\n",
    "    "
   ]
  },
  {
   "cell_type": "code",
   "execution_count": 10,
   "metadata": {},
   "outputs": [
    {
     "data": {
      "text/plain": [
       "4"
      ]
     },
     "execution_count": 10,
     "metadata": {},
     "output_type": "execute_result"
    }
   ],
   "source": [
    "a"
   ]
  },
  {
   "cell_type": "code",
   "execution_count": null,
   "metadata": {},
   "outputs": [],
   "source": []
  }
 ],
 "metadata": {
  "kernelspec": {
   "display_name": "Python 3",
   "language": "python",
   "name": "python3"
  },
  "language_info": {
   "codemirror_mode": {
    "name": "ipython",
    "version": 3
   },
   "file_extension": ".py",
   "mimetype": "text/x-python",
   "name": "python",
   "nbconvert_exporter": "python",
   "pygments_lexer": "ipython3",
   "version": "3.7.6"
  }
 },
 "nbformat": 4,
 "nbformat_minor": 4
}
