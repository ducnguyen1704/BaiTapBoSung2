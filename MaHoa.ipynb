{
 "cells": [
  {
   "cell_type": "markdown",
   "metadata": {},
   "source": [
    "# Mã Hóa bức thư"
   ]
  },
  {
   "cell_type": "code",
   "execution_count": 81,
   "metadata": {},
   "outputs": [
    {
     "name": "stdout",
     "output_type": "stream",
     "text": [
      "Mời bạn chọn chức năng mã hóa hoặc giải mã bằng con số 0(mã hóa) hoặc 1(Giải mã): 0\n",
      "Bạn nhập vào chuỗi(Hoặc văn bản) cần được mã hóa: Programming\n",
      "Mời bạn nhập vào khóa K: 7\n"
     ]
    }
   ],
   "source": [
    "chucnang = int(input(\"Mời bạn chọn chức năng mã hóa hoặc giải mã bằng con số 0(mã hóa) hoặc 1(Giải mã): \"))\n",
    "chuoi =  input(\"Bạn nhập vào chuỗi mã hóa Q (Hoặc văn bản S) cần được mã hóa: \")\n",
    "k = int(input(\"Mời bạn nhập vào khóa K: \"))"
   ]
  },
  {
   "cell_type": "code",
   "execution_count": 88,
   "metadata": {},
   "outputs": [
    {
     "name": "stdout",
     "output_type": "stream",
     "text": [
      "Bạn đã chọn chức năng mã hóa:\n",
      "Văn bản gốc:  Programming\n",
      "Văn bản được mã hóa Sb + Se:  margorPgnim\n"
     ]
    }
   ],
   "source": [
    "if chucnang == 1:\n",
    "    print(\"Bạn đã chọn chức năng giải mã:\")\n",
    "    print(chuoi)\n",
    "else:\n",
    "    print(\"Bạn đã chọn chức năng mã hóa:\")\n",
    "    print(\"Văn bản gốc: \",chuoi)\n",
    "    Sb = chuoi[0:k]\n",
    "    resb = Sb[::-1]\n",
    "    index2 = len(chuoi)-k\n",
    "    Se = chuoi[-index2:]\n",
    "    rese = Se[::-1]\n",
    "    print(\"Văn bản được mã hóa Sb + Se: \",resb + rese)"
   ]
  },
  {
   "cell_type": "code",
   "execution_count": null,
   "metadata": {},
   "outputs": [],
   "source": []
  }
 ],
 "metadata": {
  "kernelspec": {
   "display_name": "Python 3",
   "language": "python",
   "name": "python3"
  },
  "language_info": {
   "codemirror_mode": {
    "name": "ipython",
    "version": 3
   },
   "file_extension": ".py",
   "mimetype": "text/x-python",
   "name": "python",
   "nbconvert_exporter": "python",
   "pygments_lexer": "ipython3",
   "version": "3.7.6"
  }
 },
 "nbformat": 4,
 "nbformat_minor": 4
}
